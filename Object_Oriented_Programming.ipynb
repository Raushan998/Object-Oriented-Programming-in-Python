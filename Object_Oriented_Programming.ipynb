{
 "cells": [
  {
   "cell_type": "markdown",
   "metadata": {},
   "source": [
    "## Class"
   ]
  },
  {
   "cell_type": "code",
   "execution_count": 1,
   "metadata": {},
   "outputs": [],
   "source": [
    "class Mobile:\n",
    "    def __init__(self):\n",
    "        self.model='RealMeX'\n",
    "    def show_model(self):\n",
    "        print(\"Model:\",self.model)"
   ]
  },
  {
   "cell_type": "markdown",
   "metadata": {},
   "source": [
    "## Accessing class member using object"
   ]
  },
  {
   "cell_type": "code",
   "execution_count": 2,
   "metadata": {},
   "outputs": [
    {
     "name": "stdout",
     "output_type": "stream",
     "text": [
      "Model: RealMeX Price: 1000\n",
      "140463561730536\n",
      "\n",
      "Model: Redmi7s Price: 2000\n",
      "140463561730424\n",
      "\n"
     ]
    }
   ],
   "source": [
    "class Mobile:\n",
    "    def __init__(self,m):\n",
    "        self.model=m\n",
    "    def show_model(self,p):\n",
    "        self.price=p\n",
    "        print(\"Model:\",self.model,\"Price:\",self.price)\n",
    "realme=Mobile('RealMeX')\n",
    "realme.show_model(1000)\n",
    "print(id(realme))\n",
    "print()\n",
    "redmi=Mobile('Redmi7s')\n",
    "redmi.show_model(2000)\n",
    "print(id(redmi))\n",
    "print()"
   ]
  },
  {
   "cell_type": "markdown",
   "metadata": {},
   "source": [
    "## Accessing the class/static Variable"
   ]
  },
  {
   "cell_type": "code",
   "execution_count": 23,
   "metadata": {},
   "outputs": [],
   "source": [
    "class Mobile:\n",
    "    fb='Yes'\n",
    "    def __init__(self):\n",
    "        self.model='RealMeX';\n",
    "    def show_model(self):\n",
    "        print(self.model)\n",
    "    @ classmethod\n",
    "    def is_fb(cls):\n",
    "        print(cls.fp)\n",
    "realme=Mobile()\n",
    "Mobile.fb=\"NO\""
   ]
  },
  {
   "cell_type": "markdown",
   "metadata": {},
   "source": [
    "## Accessing instance method w/o parameter"
   ]
  },
  {
   "cell_type": "code",
   "execution_count": 16,
   "metadata": {},
   "outputs": [
    {
     "name": "stdout",
     "output_type": "stream",
     "text": [
      "RealMeX\n"
     ]
    }
   ],
   "source": [
    "class Mobile:\n",
    "    def show_model(self):\n",
    "        print('RealMeX')\n",
    "realme=Mobile()\n",
    "realme.show_model()"
   ]
  },
  {
   "cell_type": "markdown",
   "metadata": {},
   "source": [
    "## Accessing the instance method with parameter"
   ]
  },
  {
   "cell_type": "code",
   "execution_count": 18,
   "metadata": {},
   "outputs": [
    {
     "name": "stdout",
     "output_type": "stream",
     "text": [
      "RealMeX 1000\n"
     ]
    }
   ],
   "source": [
    "class Mobile:\n",
    "    def __init__(self):\n",
    "        self.model='RealMeX'\n",
    "    def show_model(self,p):\n",
    "        self.price=p\n",
    "        print(self.model,self.price)\n",
    "realme=Mobile()\n",
    "realme.show_model(1000)"
   ]
  },
  {
   "cell_type": "markdown",
   "metadata": {},
   "source": [
    "## Instance method-Accessor method/Getter method"
   ]
  },
  {
   "cell_type": "code",
   "execution_count": 19,
   "metadata": {},
   "outputs": [
    {
     "name": "stdout",
     "output_type": "stream",
     "text": [
      "RealMeX\n"
     ]
    }
   ],
   "source": [
    "class Mobile:\n",
    "    def __init__(self):\n",
    "        self.model='RealMeX'\n",
    "    def get_model(self):\n",
    "        return self.model\n",
    "realme=Mobile()\n",
    "m=realme.get_model()\n",
    "print(m)"
   ]
  },
  {
   "cell_type": "markdown",
   "metadata": {},
   "source": [
    "## Instance method-Mutator method/Setter Method"
   ]
  },
  {
   "cell_type": "code",
   "execution_count": 21,
   "metadata": {},
   "outputs": [
    {
     "name": "stdout",
     "output_type": "stream",
     "text": [
      "RealMeX\n",
      "Realme-2\n"
     ]
    }
   ],
   "source": [
    "class Mobile:\n",
    "    def __init__(self):\n",
    "        self.model='RealMeX'\n",
    "    def set_model(self):\n",
    "        self.model='Realme-2'\n",
    "realme=Mobile()\n",
    "##Befor setting\n",
    "print(realme.model)\n",
    "## After setting\n",
    "realme.set_model()\n",
    "print(realme.model)"
   ]
  },
  {
   "cell_type": "markdown",
   "metadata": {},
   "source": [
    "## Class Method"
   ]
  },
  {
   "cell_type": "markdown",
   "metadata": {},
   "source": [
    "### Calling class method without using Argument"
   ]
  },
  {
   "cell_type": "code",
   "execution_count": 26,
   "metadata": {},
   "outputs": [
    {
     "name": "stdout",
     "output_type": "stream",
     "text": [
      "RealMeX\n"
     ]
    }
   ],
   "source": [
    "class Mobile:\n",
    "    fb='Yes'\n",
    "    @classmethod\n",
    "    def show_model(cls):\n",
    "        print(\"RealMeX\")\n",
    "realme=Mobile()\n",
    "Mobile.show_model()"
   ]
  },
  {
   "cell_type": "markdown",
   "metadata": {},
   "source": [
    "### Class Method with using Argument"
   ]
  },
  {
   "cell_type": "code",
   "execution_count": 31,
   "metadata": {},
   "outputs": [
    {
     "name": "stdout",
     "output_type": "stream",
     "text": [
      "101\n"
     ]
    }
   ],
   "source": [
    "class Mobile:\n",
    "    fb='Yes'\n",
    "    @classmethod\n",
    "    def show_model(cls,r):\n",
    "        cls.ram=r\n",
    "        print(cls.ram)\n",
    "realme=Mobile()\n",
    "Mobile.show_model(101)"
   ]
  },
  {
   "cell_type": "markdown",
   "metadata": {},
   "source": [
    "## Static Method"
   ]
  },
  {
   "cell_type": "markdown",
   "metadata": {},
   "source": [
    "### Static method without parameter"
   ]
  },
  {
   "cell_type": "code",
   "execution_count": 35,
   "metadata": {},
   "outputs": [
    {
     "name": "stdout",
     "output_type": "stream",
     "text": [
      "<function Mobile.show_model at 0x7fc0382978c8>\n"
     ]
    }
   ],
   "source": [
    "class Mobile:\n",
    "    fb='Yes'\n",
    "    @staticmethod\n",
    "    def show_model():\n",
    "        print(Mobile.fp)\n",
    "realme=Mobile()\n",
    "print(Mobile.show_model)"
   ]
  },
  {
   "cell_type": "markdown",
   "metadata": {},
   "source": [
    "### static method with parameter"
   ]
  },
  {
   "cell_type": "code",
   "execution_count": 39,
   "metadata": {},
   "outputs": [
    {
     "name": "stdout",
     "output_type": "stream",
     "text": [
      "RealMex 1000\n"
     ]
    }
   ],
   "source": [
    "class Mobile:\n",
    "    @staticmethod\n",
    "    def show_model(m,p):\n",
    "        model=m\n",
    "        price=p\n",
    "        print(model,price)\n",
    "realme=Mobile()\n",
    "Mobile.show_model('RealMex',1000)"
   ]
  },
  {
   "cell_type": "markdown",
   "metadata": {},
   "source": [
    "## Passing Member of one class to another class"
   ]
  },
  {
   "cell_type": "code",
   "execution_count": 44,
   "metadata": {},
   "outputs": [
    {
     "name": "stdout",
     "output_type": "stream",
     "text": [
      "UserName: Rahul\n",
      "User Roll No: 101\n",
      "Student Name: Rahul\n",
      "student Roll: 101\n"
     ]
    }
   ],
   "source": [
    "class Student:\n",
    "    # constructor\n",
    "    def __init__(self,n,r):\n",
    "        self.name=n\n",
    "        self.roll=r\n",
    "    # Instance method\n",
    "    def disp(self):\n",
    "        print('Student Name:',self.name)\n",
    "        print('student Roll:',self.roll)\n",
    "class User:\n",
    "    # static method\n",
    "    @staticmethod\n",
    "    def show(s):\n",
    "        print(\"UserName:\",s.name)\n",
    "        print(\"User Roll No:\",s.roll)\n",
    "        s.disp()\n",
    "        \n",
    "# creating object of student Class\n",
    "stu=Student('Rahul',101)\n",
    "User.show(stu)"
   ]
  },
  {
   "cell_type": "markdown",
   "metadata": {},
   "source": [
    "## Nested Class in Python"
   ]
  },
  {
   "cell_type": "code",
   "execution_count": 45,
   "metadata": {},
   "outputs": [
    {
     "name": "stdout",
     "output_type": "stream",
     "text": [
      "AK47\n",
      "\n",
      "AK47\n",
      "75rounds\n",
      "34.3 in\n"
     ]
    }
   ],
   "source": [
    "class Army:\n",
    "    def __init__(self):\n",
    "        self.name='Rahul'\n",
    "        self.gn=self.Gun()\n",
    "    def show(self):\n",
    "        print(self.name)\n",
    "    class Gun:\n",
    "        def __init__(self):\n",
    "            self.name=\"AK47\"\n",
    "            self.capacity=\"75rounds\"\n",
    "            self.length=\"34.3 in\"\n",
    "        \n",
    "        def disp(self):\n",
    "            print(self.name,self.capacity,self.length)\n",
    "a=Army()\n",
    "print(a.gn.name)\n",
    "g=a.gn\n",
    "print()\n",
    "print(g.name)\n",
    "print(g.capacity)\n",
    "print(g.length)"
   ]
  },
  {
   "cell_type": "markdown",
   "metadata": {},
   "source": [
    "## Inheritance"
   ]
  },
  {
   "cell_type": "markdown",
   "metadata": {},
   "source": [
    "### single Inheritance"
   ]
  },
  {
   "cell_type": "code",
   "execution_count": 48,
   "metadata": {},
   "outputs": [
    {
     "name": "stdout",
     "output_type": "stream",
     "text": [
      "child class:Instance method\n",
      "print class Instance method\n",
      "print class Instance method\n",
      "Parent class method: 1000\n",
      "parent class static method: 10\n"
     ]
    }
   ],
   "source": [
    "class Father:\n",
    "    money=1000\n",
    "    def show(self):\n",
    "        print(\"print class Instance method\")\n",
    "    @classmethod\n",
    "    def showmoney(cls):\n",
    "        print(\"Parent class method:\",cls.money)\n",
    "    @staticmethod\n",
    "    def stat():\n",
    "        a=10\n",
    "        print(\"parent class static method:\",a)\n",
    "class Son(Father):\n",
    "    def disp(self):\n",
    "        print(\"child class:Instance method\")\n",
    "        \n",
    "s=Son()\n",
    "s.disp()\n",
    "s.show()\n",
    "s.show()\n",
    "s.showmoney()\n",
    "s.stat()"
   ]
  },
  {
   "cell_type": "markdown",
   "metadata": {},
   "source": [
    "### Constructor in Inheritance"
   ]
  },
  {
   "cell_type": "code",
   "execution_count": 49,
   "metadata": {},
   "outputs": [
    {
     "name": "stdout",
     "output_type": "stream",
     "text": [
      "Father class constructor\n",
      "son class Instance method: 2000\n"
     ]
    }
   ],
   "source": [
    "class Father:\n",
    "    def __init__(self):\n",
    "        self.money=2000\n",
    "        print(\"Father class constructor\")\n",
    "class Son(Father):\n",
    "    def disp(self):\n",
    "        print(\"son class Instance method:\",self.money)\n",
    "s=Son()\n",
    "s.disp()"
   ]
  },
  {
   "cell_type": "markdown",
   "metadata": {},
   "source": [
    "### constructor overiding"
   ]
  },
  {
   "cell_type": "code",
   "execution_count": 52,
   "metadata": {},
   "outputs": [
    {
     "name": "stdout",
     "output_type": "stream",
     "text": [
      "Father class constructor\n",
      "Son class Constructor\n",
      "5000\n",
      "BMW\n",
      "Son Class Instance Method\n",
      "Father class Instance method\n"
     ]
    }
   ],
   "source": [
    "class Father:\n",
    "    def __init__(self):\n",
    "        self.money=1000\n",
    "        print(\"Father class constructor\")\n",
    "    def show(self):\n",
    "        print(\"Father class Instance method\")\n",
    "class Son(Father):\n",
    "    def __init__(self):\n",
    "        self.money=5000\n",
    "        self.car=\"BMW\"\n",
    "        print(\"Son class Constructor\")\n",
    "    \n",
    "    def disp(self):\n",
    "        print(\"Son Class Instance Method\")\n",
    "F=Father()\n",
    "s=Son()\n",
    "print(s.money)\n",
    "print(s.car)\n",
    "s.disp()\n",
    "s.show()"
   ]
  },
  {
   "cell_type": "markdown",
   "metadata": {},
   "source": [
    "### constructor with super method"
   ]
  },
  {
   "cell_type": "code",
   "execution_count": 53,
   "metadata": {},
   "outputs": [
    {
     "name": "stdout",
     "output_type": "stream",
     "text": [
      "Father class Constructor\n",
      "Son class Constructor\n",
      "self class Instance method: 1000 Job: Python\n"
     ]
    }
   ],
   "source": [
    "class Father:\n",
    "    def __init__(self,m):\n",
    "        self.money=m\n",
    "        print(\"Father class Constructor\")\n",
    "    def show(self):\n",
    "        print(\"Father class Instance method\")\n",
    "        \n",
    "class Son(Father):\n",
    "    def __init__(self,m,j):\n",
    "        super().__init__(m) ## calling parent class constructor\n",
    "        self.job=j\n",
    "        print(\"Son class Constructor\")\n",
    "    def disp(self):\n",
    "        print(\"self class Instance method:\",self.money,\"Job:\",self.job)\n",
    "\n",
    "s=Son(1000,\"Python\")\n",
    "s.disp()"
   ]
  },
  {
   "cell_type": "markdown",
   "metadata": {},
   "source": [
    "### Multilevel Inheritance"
   ]
  },
  {
   "cell_type": "code",
   "execution_count": 57,
   "metadata": {},
   "outputs": [
    {
     "name": "stdout",
     "output_type": "stream",
     "text": [
      "Father class Constructor\n",
      "son class constructor\n",
      "Grandson class Son constructor\n",
      "Father class method\n",
      "son class method\n"
     ]
    }
   ],
   "source": [
    "class Father:\n",
    "    def __init__(self):\n",
    "        print(\"Father class Constructor\")\n",
    "    def showF(self):\n",
    "        print(\"Father class method\")\n",
    "class Son(Father):\n",
    "    def __init__(self):\n",
    "        super().__init__() ## calling father class constructor\n",
    "        print(\"son class constructor\")\n",
    "    def showS(self):\n",
    "        print(\"son class method\")\n",
    "\n",
    "class Grandson(Son):\n",
    "    def __init__(self):\n",
    "        super().__init__() ## calling son class constructor \n",
    "        print(\"Grandson class Son constructor\")\n",
    "        \n",
    "    def showG(self):\n",
    "        print(\"Grandson class method\")\n",
    "\n",
    "g=Grandson()\n",
    "g.showF()\n",
    "g.showS()"
   ]
  },
  {
   "cell_type": "markdown",
   "metadata": {},
   "source": [
    "### Hierarchial Inheritance"
   ]
  },
  {
   "cell_type": "code",
   "execution_count": 58,
   "metadata": {},
   "outputs": [
    {
     "name": "stdout",
     "output_type": "stream",
     "text": [
      "Father class constructor\n",
      "Son class constructor\n",
      "Father class method\n"
     ]
    }
   ],
   "source": [
    "class Father:\n",
    "    def __init__(self):\n",
    "        print(\"Father class constructor\")\n",
    "    def showF(self):\n",
    "        print(\"Father class method\")\n",
    "class Son(Father):\n",
    "    def __init__(self):\n",
    "        super().__init__() # calling Father class constructor\n",
    "        print(\"Son class constructor\")\n",
    "    def shows(self):\n",
    "        print(\"son class method\")\n",
    "class Daughter(Father):\n",
    "    def __init__(self):\n",
    "        print(\"Daughter class constructor\")\n",
    "    def showD(self):\n",
    "        print(\"Daughter class method\")\n",
    "\n",
    "s=Son()\n",
    "s.showF()"
   ]
  },
  {
   "cell_type": "markdown",
   "metadata": {},
   "source": [
    "### Multiple Inheritance"
   ]
  },
  {
   "cell_type": "code",
   "execution_count": 59,
   "metadata": {},
   "outputs": [
    {
     "name": "stdout",
     "output_type": "stream",
     "text": [
      "Mother class constructor\n",
      "Father class constructor\n",
      "Son class constructor\n"
     ]
    }
   ],
   "source": [
    "class Father:\n",
    "    def __init__(self):\n",
    "        super().__init__()\n",
    "        print(\"Father class constructor\")\n",
    "    def showF(self):\n",
    "        print(\"Father class method\")\n",
    "class Mother:\n",
    "    def __init__(self):\n",
    "        super().__init__()\n",
    "        print(\"Mother class constructor\")\n",
    "    def showM(self):\n",
    "        print(\"Mother class method\")\n",
    "class Son(Father,Mother):\n",
    "    def __init__(self):\n",
    "        super().__init__()\n",
    "        print(\"Son class constructor\")\n",
    "    def showS(self):\n",
    "        print(\"Son class Method\")\n",
    "s=Son()"
   ]
  },
  {
   "cell_type": "markdown",
   "metadata": {},
   "source": [
    "## Polymorphism"
   ]
  },
  {
   "cell_type": "markdown",
   "metadata": {},
   "source": [
    "### Ducktyping using strongtyping"
   ]
  },
  {
   "cell_type": "code",
   "execution_count": 60,
   "metadata": {},
   "outputs": [
    {
     "name": "stdout",
     "output_type": "stream",
     "text": [
      "Thapak thapak thapak\n",
      "tabdak tabdak tabdak\n",
      "Function not present\n"
     ]
    }
   ],
   "source": [
    "class Duck:\n",
    "    def walk(self):\n",
    "        print(\"Thapak thapak thapak\")\n",
    "class Horse:\n",
    "    def walk(self):\n",
    "        print(\"tabdak tabdak tabdak\")\n",
    "class cat:\n",
    "    def talk(self):\n",
    "        print(\"Meow Meow Meow\")\n",
    "\n",
    "def myfunction(obj):\n",
    "    if hasattr(obj,'walk'):\n",
    "        obj.walk()\n",
    "    else:\n",
    "        print(\"Function not present\")\n",
    "d=Duck()\n",
    "myfunction(d)\n",
    "h=Horse()\n",
    "myfunction(h)\n",
    "c=cat()\n",
    "myfunction(c)"
   ]
  },
  {
   "cell_type": "markdown",
   "metadata": {},
   "source": [
    "### Method overloading"
   ]
  },
  {
   "cell_type": "code",
   "execution_count": 64,
   "metadata": {},
   "outputs": [
    {
     "name": "stdout",
     "output_type": "stream",
     "text": [
      "30\n"
     ]
    }
   ],
   "source": [
    "class Myclass:\n",
    "    def Sum(self,a=None,b=None,c=None):\n",
    "        if a!=None and b!=None and c!=None:\n",
    "            return a+b+c\n",
    "        elif a!=None and b!=None:\n",
    "            return a+b\n",
    "        else:\n",
    "            print(\"Provide at least two number\")\n",
    "obj=Myclass()\n",
    "print(obj.Sum(10,20))"
   ]
  },
  {
   "cell_type": "markdown",
   "metadata": {},
   "source": [
    "### Method overriding"
   ]
  },
  {
   "cell_type": "code",
   "execution_count": 66,
   "metadata": {},
   "outputs": [
    {
     "name": "stdout",
     "output_type": "stream",
     "text": [
      "Addition: 50\n",
      "Multiplication: 200\n"
     ]
    }
   ],
   "source": [
    "class Add:\n",
    "    def result(self,a,b):\n",
    "        print(\"Addition:\",a+b)\n",
    "class Multi(Add):\n",
    "    def result(self,a,b):\n",
    "        super().result(20,30)\n",
    "        print(\"Multiplication:\",a*b)\n",
    "m=Multi()\n",
    "m.result(10,20)"
   ]
  },
  {
   "cell_type": "markdown",
   "metadata": {},
   "source": [
    "### Operator overloading"
   ]
  },
  {
   "cell_type": "code",
   "execution_count": 67,
   "metadata": {},
   "outputs": [
    {
     "name": "stdout",
     "output_type": "stream",
     "text": [
      "300\n"
     ]
    }
   ],
   "source": [
    "class A:\n",
    "    def __init__(self,x):\n",
    "        self.x=x\n",
    "    def __add__(self,other):\n",
    "        return self.x+other.x\n",
    "class B:\n",
    "    def __init__(self,x):\n",
    "        self.x=x\n",
    "a=A(100)\n",
    "b=B(200)\n",
    "print(a+b)"
   ]
  },
  {
   "cell_type": "markdown",
   "metadata": {},
   "source": [
    "## Abstract class"
   ]
  },
  {
   "cell_type": "code",
   "execution_count": 68,
   "metadata": {},
   "outputs": [
    {
     "name": "stdout",
     "output_type": "stream",
     "text": [
      "child class\n",
      "Defining Abstract class\n",
      "concrete Method\n"
     ]
    }
   ],
   "source": [
    "from abc import ABC,abstractmethod\n",
    "class Father(ABC):\n",
    "    @abstractmethod\n",
    "    def disp(self):\n",
    "        pass\n",
    "    def show(self):\n",
    "        print(\"concrete Method\")\n",
    "\n",
    "class Child(Father):\n",
    "    def disp(self):\n",
    "        print(\"child class\")\n",
    "        print(\"Defining Abstract class\")\n",
    "c=Child()\n",
    "c.disp()\n",
    "c.show()"
   ]
  },
  {
   "cell_type": "code",
   "execution_count": null,
   "metadata": {},
   "outputs": [],
   "source": []
  }
 ],
 "metadata": {
  "kernelspec": {
   "display_name": "Python 3",
   "language": "python",
   "name": "python3"
  },
  "language_info": {
   "codemirror_mode": {
    "name": "ipython",
    "version": 3
   },
   "file_extension": ".py",
   "mimetype": "text/x-python",
   "name": "python",
   "nbconvert_exporter": "python",
   "pygments_lexer": "ipython3",
   "version": "3.6.9"
  }
 },
 "nbformat": 4,
 "nbformat_minor": 2
}
